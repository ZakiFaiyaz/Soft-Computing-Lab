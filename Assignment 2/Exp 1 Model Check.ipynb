{
 "cells": [
  {
   "cell_type": "code",
   "execution_count": 57,
   "id": "c47df65d",
   "metadata": {},
   "outputs": [],
   "source": [
    "import numpy as np\n",
    "import pandas as pd \n",
    "import torch\n",
    "import torch.nn as nn\n",
    "from torchvision import datasets, transforms, models\n",
    "from torch.autograd import Variable\n",
    "from matplotlib import pyplot as plt\n",
    "from numpy import mean\n",
    "import os\n",
    "from PIL import Image\n",
    "import torch\n",
    "import torch.nn as nn\n",
    "import torchvision.transforms as transforms\n",
    "import torchvision.datasets as dsets"
   ]
  },
  {
   "cell_type": "code",
   "execution_count": 51,
   "id": "4e975bde",
   "metadata": {},
   "outputs": [],
   "source": [
    "test_data =pd.read_csv(r'C:\\Users\\User\\Soft Computing\\Assignment 2\\Dataset\\Dataset_2/verification_test.csv')\n",
    "train_data = pd.read_csv(r'C:\\Users\\User\\Soft Computing\\Assignment 2\\Dataset\\Dataset_2/verification_train.csv')"
   ]
  },
  {
   "cell_type": "code",
   "execution_count": 52,
   "id": "b0345bcd",
   "metadata": {},
   "outputs": [
    {
     "name": "stdout",
     "output_type": "stream",
     "text": [
      "10000\n"
     ]
    }
   ],
   "source": [
    "test_label=test_data['label']\n",
    "test_data=test_data.drop(labels='label',axis=1)\n",
    "test_data=test_data/255.0\n",
    "test_data=test_data.values.reshape(-1,28,28,1)\n",
    "test_dataset = list(zip(test_data,test_label))\n",
    "print(len(test_dataset))"
   ]
  },
  {
   "cell_type": "code",
   "execution_count": 53,
   "id": "18f18075",
   "metadata": {},
   "outputs": [
    {
     "name": "stdout",
     "output_type": "stream",
     "text": [
      "60000\n"
     ]
    }
   ],
   "source": [
    "train_label=train_data['label']\n",
    "train_data=train_data.drop(labels='label',axis=1)\n",
    "train_data=train_data/255.0\n",
    "train_data=train_data.values.reshape(-1,28,28,1)\n",
    "train_dataset = list(zip(train_data,train_label))\n",
    "print(len(train_dataset))"
   ]
  },
  {
   "cell_type": "code",
   "execution_count": 61,
   "id": "c37d6390",
   "metadata": {},
   "outputs": [
    {
     "name": "stdout",
     "output_type": "stream",
     "text": [
      "Iteration: 500. Loss: 2.3005077838897705. Accuracy: 10.0\n",
      "Iteration: 1000. Loss: 2.31156063079834. Accuracy: 10.0\n",
      "Iteration: 1500. Loss: 2.30165433883667. Accuracy: 12.66\n",
      "Iteration: 2000. Loss: 2.3012750148773193. Accuracy: 10.0\n",
      "Iteration: 2500. Loss: 2.2937047481536865. Accuracy: 10.0\n",
      "Iteration: 3000. Loss: 2.295480728149414. Accuracy: 10.0\n",
      "Iteration: 3500. Loss: 2.2822558879852295. Accuracy: 28.18\n",
      "Iteration: 4000. Loss: 2.235171318054199. Accuracy: 30.14\n",
      "Iteration: 4500. Loss: 1.28240966796875. Accuracy: 43.29\n",
      "Iteration: 5000. Loss: 0.9810827374458313. Accuracy: 52.19\n",
      "Iteration: 5500. Loss: 1.0461750030517578. Accuracy: 63.39\n",
      "Iteration: 6000. Loss: 0.9008235931396484. Accuracy: 60.14\n",
      "Iteration: 6500. Loss: 0.8636935353279114. Accuracy: 70.47\n",
      "Iteration: 7000. Loss: 0.6734674572944641. Accuracy: 72.32\n",
      "Iteration: 7500. Loss: 0.740155816078186. Accuracy: 73.1\n",
      "Iteration: 8000. Loss: 0.6132382750511169. Accuracy: 75.79\n",
      "Iteration: 8500. Loss: 0.7178817987442017. Accuracy: 76.38\n",
      "Iteration: 9000. Loss: 0.5813708901405334. Accuracy: 76.81\n",
      "Iteration: 9500. Loss: 0.6413475275039673. Accuracy: 75.51\n",
      "Iteration: 10000. Loss: 0.5215334892272949. Accuracy: 77.88\n",
      "Iteration: 10500. Loss: 0.7149046063423157. Accuracy: 79.11\n",
      "Iteration: 11000. Loss: 0.471291720867157. Accuracy: 79.09\n",
      "Iteration: 11500. Loss: 0.868733286857605. Accuracy: 80.87\n",
      "Iteration: 12000. Loss: 0.5383492708206177. Accuracy: 80.61\n",
      "Iteration: 12500. Loss: 0.659321665763855. Accuracy: 79.91\n",
      "Iteration: 13000. Loss: 0.46158385276794434. Accuracy: 82.23\n",
      "Iteration: 13500. Loss: 0.6624304056167603. Accuracy: 79.7\n",
      "Iteration: 14000. Loss: 1.103977084159851. Accuracy: 79.34\n",
      "Iteration: 14500. Loss: 0.37504076957702637. Accuracy: 83.43\n",
      "Iteration: 15000. Loss: 0.6989696025848389. Accuracy: 81.74\n",
      "Iteration: 15500. Loss: 0.370354026556015. Accuracy: 82.69\n",
      "Iteration: 16000. Loss: 0.0805596113204956. Accuracy: 83.88\n",
      "Iteration: 16500. Loss: 0.6142169833183289. Accuracy: 84.34\n",
      "Iteration: 17000. Loss: 0.136582151055336. Accuracy: 84.37\n",
      "Iteration: 17500. Loss: 0.3515651226043701. Accuracy: 83.2\n",
      "Iteration: 18000. Loss: 0.11430390924215317. Accuracy: 84.88\n"
     ]
    }
   ],
   "source": [
    "# Hyperparameters\n",
    "batch_size = 20\n",
    "num_iters = 20000\n",
    "input_dim = 28*28 # num_features = 784\n",
    "num_hidden = 200\n",
    "output_dim = 10\n",
    "num_epochs = num_iters / (len(train_dataset) / batch_size)\n",
    "num_epochs = int(num_epochs)\n",
    "learning_rate = 0.01\n",
    "\n",
    "# Device\n",
    "device = torch.device(\"cuda:0\" if torch.cuda.is_available() else \"cpu\")\n",
    "\n",
    "\n",
    "\n",
    "train_loader = torch.utils.data.DataLoader(dataset=train_dataset, \n",
    "                                           batch_size=batch_size, \n",
    "                                           shuffle=True)   # It's better to shuffle the whole training dataset! \n",
    "\n",
    "test_loader = torch.utils.data.DataLoader(dataset=test_dataset, \n",
    "                                          batch_size=batch_size, \n",
    "                                          shuffle=False) \n",
    "\n",
    "\n",
    "class DeepNeuralNetworkModel(nn.Module):\n",
    "    def __init__(self, input_size, num_classes, num_hidden):\n",
    "        super().__init__()\n",
    "       \n",
    "        self.linear_1 = nn.Linear(input_size, num_hidden)\n",
    "        \n",
    "        self.relu_1 = nn.ReLU()\n",
    " \n",
    "        \n",
    "        self.linear_2 = nn.Linear(num_hidden, num_hidden)\n",
    "        \n",
    "        self.relu_2 = nn.ReLU()\n",
    " \n",
    "        \n",
    "        self.linear_3 = nn.Linear(num_hidden, num_hidden)\n",
    "        \n",
    "        self.relu_3 = nn.ReLU()\n",
    " \n",
    "         \n",
    "        self.linear_4 = nn.Linear(num_hidden, num_hidden)\n",
    "        \n",
    "        self.relu_4 = nn.ReLU()\n",
    " \n",
    "         \n",
    "        self.linear_5= nn.Linear(num_hidden, num_hidden)\n",
    "        \n",
    "        self.relu_5= nn.ReLU()\n",
    " \n",
    "         \n",
    "        self.linear_6 = nn.Linear(num_hidden, num_hidden)\n",
    "        \n",
    "        self.relu_6 = nn.ReLU()\n",
    " \n",
    "        \n",
    "        self.linear_out = nn.Linear(num_hidden, num_classes)\n",
    " \n",
    "    def forward(self, x):\n",
    "        ### 1st hidden layer\n",
    "        out  = self.linear_1(x)\n",
    "        ### Non-linearity in 1st hidden layer\n",
    "        out = self.relu_1(out)\n",
    "        \n",
    "        ### 2nd hidden layer\n",
    "        out  = self.linear_2(out)\n",
    "        ### Non-linearity in 2nd hidden layer\n",
    "        out = self.relu_2(out)\n",
    " \n",
    "        ### 3rd hidden layer\n",
    "        out  = self.linear_3(out)\n",
    "        ### Non-linearity in 3rd hidden layer\n",
    "        out = self.relu_3(out)\n",
    " \n",
    "        out  = self.linear_4(out)\n",
    "        ### Non-linearity in 3rd hidden layer\n",
    "        out = self.relu_4(out)\n",
    " \n",
    "        out  = self.linear_5(out)\n",
    "        ### Non-linearity in 3rd hidden layer\n",
    "        out = self.relu_5(out)\n",
    " \n",
    "        out  = self.linear_6(out)\n",
    "        ### Non-linearity in 3rd hidden layer\n",
    "        out = self.relu_6(out)\n",
    "        \n",
    "        # Linear layer (output)\n",
    "        probas  = self.linear_out(out)\n",
    "        return probas\n",
    " \n",
    "# INSTANTIATE MODEL CLASS\n",
    " \n",
    "model = DeepNeuralNetworkModel(input_size = input_dim,\n",
    "                               num_classes = output_dim,\n",
    "                               num_hidden = num_hidden)\n",
    "# To enable GPU\n",
    "model.to(device)\n",
    " \n",
    "# INSTANTIATE LOSS & OPTIMIZER CLASS\n",
    "criterion = nn.CrossEntropyLoss()\n",
    "optimizer = torch.optim.SGD(model.parameters(), lr=learning_rate)\n",
    "Iteration_loss =[]\n",
    "iter = 0\n",
    "for epoch in range(num_epochs):\n",
    "    for i, (images, labels) in enumerate(train_loader):\n",
    " \n",
    "        images = images.view(-1, 28*28).to(device)\n",
    "        labels = labels.to(device)\n",
    " \n",
    "        # Clear gradients w.r.t. parameters\n",
    "        optimizer.zero_grad()\n",
    " \n",
    "        # Forward pass to get output/logits\n",
    "        outputs = model(images.float()) \n",
    " \n",
    "        # Calculate Loss: softmax --> cross entropy loss\n",
    "        loss = criterion(outputs, labels)\n",
    " \n",
    "        # Getting gradients w.r.t. parameters\n",
    "        loss.backward()\n",
    " \n",
    "        # Updating parameters\n",
    "        optimizer.step()\n",
    " \n",
    "        iter += 1\n",
    " \n",
    "        if iter % 500 == 0:\n",
    "            # Calculate Accuracy         \n",
    "            correct = 0\n",
    "            total = 0\n",
    "            # Iterate through test dataset\n",
    "            for images, labels in test_loader:\n",
    "               \n",
    "                images = images.view(-1, 28*28).to(device)\n",
    " \n",
    "                # Forward pass only to get logits/output\n",
    "                outputs = model(images.float())\n",
    " \n",
    "                # Get predictions from the maximum value\n",
    "                _, predicted = torch.max(outputs, 1)\n",
    " \n",
    "                # Total number of labels\n",
    "                total += labels.size(0)\n",
    " \n",
    " \n",
    "                # Total correct predictions\n",
    "                if torch.cuda.is_available():\n",
    "                    correct += (predicted.cpu() == labels.cpu()).sum() \n",
    "                else:\n",
    "                    correct += (predicted == labels).sum()\n",
    " \n",
    "            accuracy = 100 * correct.item() / total\n",
    " \n",
    "            # Print Loss\n",
    "            Iteration_loss.append(loss.item())\n",
    "            print('Iteration: {}. Loss: {}. Accuracy: {}'.format(iter, loss.item(), accuracy))"
   ]
  },
  {
   "cell_type": "code",
   "execution_count": 63,
   "id": "20f7a736",
   "metadata": {},
   "outputs": [
    {
     "name": "stdout",
     "output_type": "stream",
     "text": [
      "[2.3005077838897705, 2.31156063079834, 2.30165433883667, 2.3012750148773193, 2.2937047481536865, 2.295480728149414, 2.2822558879852295, 2.235171318054199, 1.28240966796875, 0.9810827374458313, 1.0461750030517578, 0.9008235931396484, 0.8636935353279114, 0.6734674572944641, 0.740155816078186, 0.6132382750511169, 0.7178817987442017, 0.5813708901405334, 0.6413475275039673, 0.5215334892272949, 0.7149046063423157, 0.471291720867157, 0.868733286857605, 0.5383492708206177, 0.659321665763855, 0.46158385276794434, 0.6624304056167603, 1.103977084159851, 0.37504076957702637, 0.6989696025848389, 0.370354026556015, 0.0805596113204956, 0.6142169833183289, 0.136582151055336, 0.3515651226043701, 0.11430390924215317]\n"
     ]
    },
    {
     "data": {
      "image/png": "[encoded data removed]",
      "text/plain": [
       "<Figure size 432x288 with 1 Axes>"
      ]
     },
     "metadata": {
      "needs_background": "light"
     },
     "output_type": "display_data"
    }
   ],
   "source": [
    "import matplotlib\n",
    "import matplotlib.pyplot as plt\n",
    "print (Iteration_loss)\n",
    "plt.plot(Iteration_loss)\n",
    "plt.ylabel('Cross Entropy Loss')\n",
    "plt.xlabel('Iteration (in every 500)')\n",
    "plt.savefig(\"C:/Users/User/Soft Computing/Assignment 2/Dataset/Dataset A/lossvsiteration for DatasetC.png\")\n",
    "plt.show()"
   ]
  },
  {
   "cell_type": "code",
   "execution_count": 64,
   "id": "213c6bdd",
   "metadata": {},
   "outputs": [
    {
     "name": "stdout",
     "output_type": "stream",
     "text": [
      "Trained Model Loaded\n"
     ]
    }
   ],
   "source": [
    "root_path = 'C:/Users/User/Soft Computing/Assignment 2'\n",
    "save_model = True\n",
    "\n",
    "if save_model is True:\n",
    "    # Saves only parameters\n",
    "    # weights & biases\n",
    "    torch.save(model.state_dict(), root_path + 'Assignment2_Exp2DatasetC.pkl') \n",
    "\n",
    "load_model = True\n",
    "\n",
    "if load_model is True:\n",
    "    model.load_state_dict(torch.load(root_path + 'Assignment2_Exp2DatasetC.pkl'))\n",
    "    print('Trained Model Loaded')"
   ]
  },
  {
   "cell_type": "code",
   "execution_count": null,
   "id": "6d2826b3",
   "metadata": {},
   "outputs": [],
   "source": []
  },
  {
   "cell_type": "code",
   "execution_count": null,
   "id": "60e5e7be",
   "metadata": {},
   "outputs": [],
   "source": []
  },
  {
   "cell_type": "code",
   "execution_count": null,
   "id": "a998dee5",
   "metadata": {},
   "outputs": [],
   "source": []
  },
  {
   "cell_type": "code",
   "execution_count": null,
   "id": "a743342d",
   "metadata": {},
   "outputs": [],
   "source": []
  }
 ],
 "metadata": {
  "kernelspec": {
   "display_name": "Python 3 (ipykernel)",
   "language": "python",
   "name": "python3"
  },
  "language_info": {
   "codemirror_mode": {
    "name": "ipython",
    "version": 3
   },
   "file_extension": ".py",
   "mimetype": "text/x-python",
   "name": "python",
   "nbconvert_exporter": "python",
   "pygments_lexer": "ipython3",
   "version": "3.8.11"
  }
 },
 "nbformat": 4,
 "nbformat_minor": 5
}
