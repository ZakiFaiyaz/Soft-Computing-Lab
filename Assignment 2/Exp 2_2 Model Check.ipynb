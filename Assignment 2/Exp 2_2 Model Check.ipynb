{
 "cells": [
  {
   "cell_type": "code",
   "execution_count": 1,
   "id": "c47df65d",
   "metadata": {},
   "outputs": [],
   "source": [
    "import numpy as np\n",
    "import pandas as pd \n",
    "import torch\n",
    "import torch.nn as nn\n",
    "from torchvision import datasets, transforms, models\n",
    "from torch.autograd import Variable\n",
    "from matplotlib import pyplot as plt\n",
    "from numpy import mean\n",
    "import os\n",
    "from PIL import Image\n",
    "import torch\n",
    "import torch.nn as nn\n",
    "import torchvision.transforms as transforms\n",
    "import torchvision.datasets as dsets"
   ]
  },
  {
   "cell_type": "code",
   "execution_count": 2,
   "id": "4e975bde",
   "metadata": {},
   "outputs": [],
   "source": [
    "test_data =pd.read_csv(r'C:\\Users\\User\\Soft Computing\\Assignment 2\\Dataset\\Dataset_2/verification_test.csv')\n",
    "train_data = pd.read_csv(r'C:\\Users\\User\\Soft Computing\\Assignment 2\\Dataset\\Dataset_2/verification_train.csv')"
   ]
  },
  {
   "cell_type": "code",
   "execution_count": 3,
   "id": "b0345bcd",
   "metadata": {},
   "outputs": [
    {
     "name": "stdout",
     "output_type": "stream",
     "text": [
      "10000\n"
     ]
    }
   ],
   "source": [
    "test_label=test_data['label']\n",
    "test_data=test_data.drop(labels='label',axis=1)\n",
    "test_data=test_data/255.0\n",
    "test_data=test_data.values.reshape(-1,28,28,1)\n",
    "test_dataset = list(zip(test_data,test_label))\n",
    "print(len(test_dataset))"
   ]
  },
  {
   "cell_type": "code",
   "execution_count": 4,
   "id": "18f18075",
   "metadata": {},
   "outputs": [
    {
     "name": "stdout",
     "output_type": "stream",
     "text": [
      "60000\n"
     ]
    }
   ],
   "source": [
    "train_label=train_data['label']\n",
    "train_data=train_data.drop(labels='label',axis=1)\n",
    "train_data=train_data/255.0\n",
    "train_data=train_data.values.reshape(-1,28,28,1)\n",
    "train_dataset = list(zip(train_data,train_label))\n",
    "print(len(train_dataset))"
   ]
  },
  {
   "cell_type": "code",
   "execution_count": 5,
   "id": "c37d6390",
   "metadata": {},
   "outputs": [
    {
     "name": "stdout",
     "output_type": "stream",
     "text": [
      "Iteration: 500. Loss: 2.3007583618164062. Accuracy: 14.78\n",
      "Iteration: 1000. Loss: 2.2941043376922607. Accuracy: 26.76\n",
      "Iteration: 1500. Loss: 2.2497785091400146. Accuracy: 30.28\n",
      "Iteration: 2000. Loss: 1.555936574935913. Accuracy: 53.89\n",
      "Iteration: 2500. Loss: 0.9615309834480286. Accuracy: 58.45\n",
      "Iteration: 3000. Loss: 1.0216425657272339. Accuracy: 64.48\n",
      "Iteration: 3500. Loss: 0.606977641582489. Accuracy: 66.92\n",
      "Iteration: 4000. Loss: 0.9557166695594788. Accuracy: 65.77\n",
      "Iteration: 4500. Loss: 0.6587153077125549. Accuracy: 75.3\n",
      "Iteration: 5000. Loss: 0.7880039215087891. Accuracy: 75.21\n",
      "Iteration: 5500. Loss: 0.7483351230621338. Accuracy: 74.84\n",
      "Iteration: 6000. Loss: 0.8932590484619141. Accuracy: 76.2\n",
      "Iteration: 6500. Loss: 0.6061732172966003. Accuracy: 76.86\n",
      "Iteration: 7000. Loss: 0.6608557105064392. Accuracy: 77.66\n",
      "Iteration: 7500. Loss: 0.3332189619541168. Accuracy: 79.56\n",
      "Iteration: 8000. Loss: 0.5832746028900146. Accuracy: 80.88\n",
      "Iteration: 8500. Loss: 0.41410622000694275. Accuracy: 78.82\n",
      "Iteration: 9000. Loss: 0.7155559062957764. Accuracy: 81.25\n"
     ]
    }
   ],
   "source": [
    "# Hyperparameters\n",
    "batch_size = 32\n",
    "num_iters = 10000\n",
    "input_dim = 28*28 # num_features = 784\n",
    "num_hidden = 100\n",
    "output_dim = 10\n",
    "num_epochs = num_iters / (len(train_dataset) / batch_size)\n",
    "num_epochs = int(num_epochs)\n",
    "learning_rate = 0.01\n",
    "\n",
    "# Device\n",
    "device = torch.device(\"cuda:0\" if torch.cuda.is_available() else \"cpu\")\n",
    "\n",
    "\n",
    "\n",
    "train_loader = torch.utils.data.DataLoader(dataset=train_dataset, \n",
    "                                           batch_size=batch_size, \n",
    "                                           shuffle=True)   # It's better to shuffle the whole training dataset! \n",
    "\n",
    "test_loader = torch.utils.data.DataLoader(dataset=test_dataset, \n",
    "                                          batch_size=batch_size, \n",
    "                                          shuffle=False) \n",
    "\n",
    "\n",
    "class DeepNeuralNetworkModel(nn.Module):\n",
    "    def __init__(self, input_size, num_classes, num_hidden):\n",
    "        super().__init__()\n",
    "       \n",
    "        self.linear_1 = nn.Linear(input_size, num_hidden)\n",
    "        \n",
    "        self.relu_1 = nn.ReLU()\n",
    " \n",
    "        \n",
    "        self.linear_2 = nn.Linear(num_hidden, num_hidden)\n",
    "        \n",
    "        self.relu_2 = nn.ReLU()\n",
    " \n",
    "        \n",
    "        self.linear_3 = nn.Linear(num_hidden, num_hidden)\n",
    "        \n",
    "        self.relu_3 = nn.ReLU()\n",
    " \n",
    "         \n",
    "        self.linear_4 = nn.Linear(num_hidden, num_hidden)\n",
    "        \n",
    "        self.relu_4 = nn.ReLU()\n",
    " \n",
    "         \n",
    "        self.linear_5= nn.Linear(num_hidden, num_hidden)\n",
    "        \n",
    "        self.relu_5= nn.ReLU()\n",
    " \n",
    "        \n",
    " \n",
    "        \n",
    "        self.linear_out = nn.Linear(num_hidden, num_classes)\n",
    " \n",
    "    def forward(self, x):\n",
    "        ### 1st hidden layer\n",
    "        out  = self.linear_1(x)\n",
    "        ### Non-linearity in 1st hidden layer\n",
    "        out = self.relu_1(out)\n",
    "        \n",
    "        ### 2nd hidden layer\n",
    "        out  = self.linear_2(out)\n",
    "        ### Non-linearity in 2nd hidden layer\n",
    "        out = self.relu_2(out)\n",
    " \n",
    "        ### 3rd hidden layer\n",
    "        out  = self.linear_3(out)\n",
    "        ### Non-linearity in 3rd hidden layer\n",
    "        out = self.relu_3(out)\n",
    " \n",
    "        out  = self.linear_4(out)\n",
    "        ### Non-linearity in 3rd hidden layer\n",
    "        out = self.relu_4(out)\n",
    " \n",
    "        out  = self.linear_5(out)\n",
    "        ### Non-linearity in 3rd hidden layer\n",
    "        out = self.relu_5(out)\n",
    "\n",
    "        # Linear layer (output)\n",
    "        probas  = self.linear_out(out)\n",
    "        return probas\n",
    " \n",
    "# INSTANTIATE MODEL CLASS\n",
    " \n",
    "model = DeepNeuralNetworkModel(input_size = input_dim,\n",
    "                               num_classes = output_dim,\n",
    "                               num_hidden = num_hidden)\n",
    "# To enable GPU\n",
    "model.to(device)\n",
    " \n",
    "# INSTANTIATE LOSS & OPTIMIZER CLASS\n",
    "criterion = nn.CrossEntropyLoss()\n",
    "optimizer = torch.optim.SGD(model.parameters(), lr=learning_rate)\n",
    "Iteration_loss =[]\n",
    "iter = 0\n",
    "for epoch in range(num_epochs):\n",
    "    for i, (images, labels) in enumerate(train_loader):\n",
    " \n",
    "        images = images.view(-1, 28*28).to(device)\n",
    "        labels = labels.to(device)\n",
    " \n",
    "        # Clear gradients w.r.t. parameters\n",
    "        optimizer.zero_grad()\n",
    " \n",
    "        # Forward pass to get output/logits\n",
    "        outputs = model(images.float()) \n",
    " \n",
    "        # Calculate Loss: softmax --> cross entropy loss\n",
    "        loss = criterion(outputs, labels)\n",
    " \n",
    "        # Getting gradients w.r.t. parameters\n",
    "        loss.backward()\n",
    " \n",
    "        # Updating parameters\n",
    "        optimizer.step()\n",
    " \n",
    "        iter += 1\n",
    " \n",
    "        if iter % 500 == 0:\n",
    "            # Calculate Accuracy         \n",
    "            correct = 0\n",
    "            total = 0\n",
    "            # Iterate through test dataset\n",
    "            for images, labels in test_loader:\n",
    "               \n",
    "                images = images.view(-1, 28*28).to(device)\n",
    " \n",
    "                # Forward pass only to get logits/output\n",
    "                outputs = model(images.float())\n",
    " \n",
    "                # Get predictions from the maximum value\n",
    "                _, predicted = torch.max(outputs, 1)\n",
    " \n",
    "                # Total number of labels\n",
    "                total += labels.size(0)\n",
    " \n",
    " \n",
    "                # Total correct predictions\n",
    "                if torch.cuda.is_available():\n",
    "                    correct += (predicted.cpu() == labels.cpu()).sum() \n",
    "                else:\n",
    "                    correct += (predicted == labels).sum()\n",
    " \n",
    "            accuracy = 100 * correct.item() / total\n",
    " \n",
    "            # Print Loss\n",
    "            Iteration_loss.append(loss.item())\n",
    "            print('Iteration: {}. Loss: {}. Accuracy: {}'.format(iter, loss.item(), accuracy))"
   ]
  },
  {
   "cell_type": "code",
   "execution_count": 6,
   "id": "20f7a736",
   "metadata": {},
   "outputs": [
    {
     "name": "stdout",
     "output_type": "stream",
     "text": [
      "[2.3007583618164062, 2.2941043376922607, 2.2497785091400146, 1.555936574935913, 0.9615309834480286, 1.0216425657272339, 0.606977641582489, 0.9557166695594788, 0.6587153077125549, 0.7880039215087891, 0.7483351230621338, 0.8932590484619141, 0.6061732172966003, 0.6608557105064392, 0.3332189619541168, 0.5832746028900146, 0.41410622000694275, 0.7155559062957764]\n"
     ]
    },
    {
     "data": {
      "image/png": "[encoded data removed]",
      "text/plain": [
       "<Figure size 432x288 with 1 Axes>"
      ]
     },
     "metadata": {
      "needs_background": "light"
     },
     "output_type": "display_data"
    }
   ],
   "source": [
    "import matplotlib\n",
    "import matplotlib.pyplot as plt\n",
    "print (Iteration_loss)\n",
    "plt.plot(Iteration_loss)\n",
    "plt.ylabel('Cross Entropy Loss')\n",
    "plt.xlabel('Iteration (in every 500)')\n",
    "plt.savefig(\"C:/Users/User/Soft Computing/Assignment 2/Dataset/Dataset A/lossvsiteration for DatasetC for exp2.png\")\n",
    "plt.show()"
   ]
  },
  {
   "cell_type": "code",
   "execution_count": 8,
   "id": "213c6bdd",
   "metadata": {},
   "outputs": [
    {
     "name": "stdout",
     "output_type": "stream",
     "text": [
      "Trained Model Loaded\n"
     ]
    }
   ],
   "source": [
    "root_path = 'C:/Users/User/Soft Computing/Assignment 2'\n",
    "save_model = True\n",
    "\n",
    "if save_model is True:\n",
    "    # Saves only parameters\n",
    "    # weights & biases\n",
    "    torch.save(model.state_dict(), root_path + 'Assignment2_Exp2DatasetCexp2.pkl') \n",
    "\n",
    "load_model = True\n",
    "\n",
    "if load_model is True:\n",
    "    model.load_state_dict(torch.load(root_path + 'Assignment2_Exp2DatasetCexp2.pkl'))\n",
    "    print('Trained Model Loaded')"
   ]
  },
  {
   "cell_type": "code",
   "execution_count": null,
   "id": "6d2826b3",
   "metadata": {},
   "outputs": [],
   "source": []
  },
  {
   "cell_type": "code",
   "execution_count": null,
   "id": "60e5e7be",
   "metadata": {},
   "outputs": [],
   "source": []
  },
  {
   "cell_type": "code",
   "execution_count": null,
   "id": "a998dee5",
   "metadata": {},
   "outputs": [],
   "source": []
  },
  {
   "cell_type": "code",
   "execution_count": null,
   "id": "a743342d",
   "metadata": {},
   "outputs": [],
   "source": []
  }
 ],
 "metadata": {
  "kernelspec": {
   "display_name": "Python 3 (ipykernel)",
   "language": "python",
   "name": "python3"
  },
  "language_info": {
   "codemirror_mode": {
    "name": "ipython",
    "version": 3
   },
   "file_extension": ".py",
   "mimetype": "text/x-python",
   "name": "python",
   "nbconvert_exporter": "python",
   "pygments_lexer": "ipython3",
   "version": "3.8.11"
  }
 },
 "nbformat": 4,
 "nbformat_minor": 5
}
